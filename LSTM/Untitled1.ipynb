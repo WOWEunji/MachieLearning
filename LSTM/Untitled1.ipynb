{
 "cells": [
  {
   "cell_type": "code",
   "execution_count": 1,
   "metadata": {},
   "outputs": [],
   "source": [
    "import torch\n",
    "import torch.nn as nn\n",
    "\n",
    "#popular datasets packcage,image tranformations for computer\n",
    "import torchvision\n",
    "#image transform을 위한 package\n",
    "import torchvision.transforms as transforms"
   ]
  },
  {
   "cell_type": "code",
   "execution_count": 6,
   "metadata": {},
   "outputs": [],
   "source": [
    "device = torch.device('cuda' if torch.cuda.is_available() else 'cpu')\n",
    "\n",
    "#Hyper parameter setting\n",
    "\n",
    "sequence_length = 28\n",
    "input_size = 28\n",
    "hidden_size = 128\n",
    "num_layers = 2\n",
    "num_classes = 10\n",
    "batch_size = 100\n",
    "num_epochs = 2\n",
    "learning_rate = 0.01\n"
   ]
  },
  {
   "cell_type": "code",
   "execution_count": 4,
   "metadata": {},
   "outputs": [
    {
     "name": "stderr",
     "output_type": "stream",
     "text": [
      "\r",
      "0it [00:00, ?it/s]"
     ]
    },
    {
     "name": "stdout",
     "output_type": "stream",
     "text": [
      "Downloading http://yann.lecun.com/exdb/mnist/train-images-idx3-ubyte.gz to ../data/MNIST/raw/train-images-idx3-ubyte.gz\n"
     ]
    },
    {
     "name": "stderr",
     "output_type": "stream",
     "text": [
      "9920512it [00:01, 5382656.77it/s]                             \n"
     ]
    },
    {
     "name": "stdout",
     "output_type": "stream",
     "text": [
      "Extracting ../data/MNIST/raw/train-images-idx3-ubyte.gz to ../data/MNIST/raw\n"
     ]
    },
    {
     "name": "stderr",
     "output_type": "stream",
     "text": [
      "\r",
      "0it [00:00, ?it/s]"
     ]
    },
    {
     "name": "stdout",
     "output_type": "stream",
     "text": [
      "Downloading http://yann.lecun.com/exdb/mnist/train-labels-idx1-ubyte.gz to ../data/MNIST/raw/train-labels-idx1-ubyte.gz\n"
     ]
    },
    {
     "name": "stderr",
     "output_type": "stream",
     "text": [
      "32768it [00:00, 62516.92it/s]            \n",
      "0it [00:00, ?it/s]"
     ]
    },
    {
     "name": "stdout",
     "output_type": "stream",
     "text": [
      "Extracting ../data/MNIST/raw/train-labels-idx1-ubyte.gz to ../data/MNIST/raw\n",
      "Downloading http://yann.lecun.com/exdb/mnist/t10k-images-idx3-ubyte.gz to ../data/MNIST/raw/t10k-images-idx3-ubyte.gz\n"
     ]
    },
    {
     "name": "stderr",
     "output_type": "stream",
     "text": [
      "1654784it [00:01, 1216010.97it/s]                            \n",
      "0it [00:00, ?it/s]"
     ]
    },
    {
     "name": "stdout",
     "output_type": "stream",
     "text": [
      "Extracting ../data/MNIST/raw/t10k-images-idx3-ubyte.gz to ../data/MNIST/raw\n",
      "Downloading http://yann.lecun.com/exdb/mnist/t10k-labels-idx1-ubyte.gz to ../data/MNIST/raw/t10k-labels-idx1-ubyte.gz\n"
     ]
    },
    {
     "name": "stderr",
     "output_type": "stream",
     "text": [
      "8192it [00:00, 18367.87it/s]            "
     ]
    },
    {
     "name": "stdout",
     "output_type": "stream",
     "text": [
      "Extracting ../data/MNIST/raw/t10k-labels-idx1-ubyte.gz to ../data/MNIST/raw\n",
      "Processing...\n",
      "Done!\n"
     ]
    },
    {
     "name": "stderr",
     "output_type": "stream",
     "text": [
      "\n"
     ]
    }
   ],
   "source": [
    "#Load MNIST dataset, tensor로 변환\n",
    "\n",
    "train_dataset = torchvision.datasets.MNIST(root = '../data/', train=True, transform=transforms.ToTensor(), download=True)\n",
    "test_dataset = torchvision.datasets.MNIST(root = '../data/', train=False, transform=transforms.ToTensor(), download=True)\n",
    "\n",
    "#Data loader\n",
    "\n",
    "train_loader = torch.utils.data.DataLoader(dataset=train_dataset, batch_size=batch_size, shuffle=True)\n",
    "test_loader = torch.utils.data.DataLoader(dataset=test_dataset, batch_size=batch_size, shuffle=False)\n"
   ]
  },
  {
   "cell_type": "code",
   "execution_count": 16,
   "metadata": {},
   "outputs": [],
   "source": [
    "#Recurrent neural network (many-to-one)\n",
    "#batch_first : 우리의 input data shape가 어떻게 주어지는지를 설명해주는 옵션, 나중에 입력을 할 때 필요한 옵션\n",
    "\n",
    "class RNN(nn.Module):\n",
    "    def __init__(self, input_size, hidden_size, num_layers, num_classes):\n",
    "        super(RNN, self).__init__()\n",
    "        self.hidden_size = hidden_size\n",
    "        self.num_layers = num_layers\n",
    "        self.lstm = nn.LSTM(input_size, hidden_size, num_layers, batch_first=True)\n",
    "        self.fc = nn.Linear(hidden_size, num_classes)\n",
    "    \n",
    "    def forward(self, x):\n",
    "        #Set initial hidden and cell states\n",
    "        #h0 = [2,* x_size, 128]\n",
    "        h0 = torch.zeros(self.num_layers, x.size(0), self.hidden_size).to(device)\n",
    "        c0 = torch.zeros(self.num_layers, x.size(0), self.hidden_size).to(device)\n",
    "        \n",
    "        out, _ = self.lstm(x,(h0, c0))\n",
    "        \n",
    "        out = self.fc(out[:, -1, :])\n",
    "        \n",
    "        return out\n",
    "    \n",
    "model = RNN(input_size, hidden_size, num_layers, num_classes).to(device) "
   ]
  },
  {
   "cell_type": "code",
   "execution_count": 17,
   "metadata": {},
   "outputs": [],
   "source": [
    "criterion = nn.CrossEntropyLoss()\n",
    "optimizer = torch.optim.Adam(model.parameters(), lr = learning_rate)"
   ]
  },
  {
   "cell_type": "code",
   "execution_count": 19,
   "metadata": {},
   "outputs": [
    {
     "name": "stdout",
     "output_type": "stream",
     "text": [
      "Epoch [1/2], Step [100/600], Loss : 0.6862\n",
      "Epoch [1/2], Step [200/600], Loss : 0.3620\n",
      "Epoch [1/2], Step [300/600], Loss : 0.3390\n",
      "Epoch [1/2], Step [400/600], Loss : 0.1491\n",
      "Epoch [1/2], Step [500/600], Loss : 0.1171\n",
      "Epoch [1/2], Step [600/600], Loss : 0.1390\n",
      "Epoch [2/2], Step [100/600], Loss : 0.1408\n",
      "Epoch [2/2], Step [200/600], Loss : 0.0383\n",
      "Epoch [2/2], Step [300/600], Loss : 0.2000\n",
      "Epoch [2/2], Step [400/600], Loss : 0.0531\n",
      "Epoch [2/2], Step [500/600], Loss : 0.0139\n",
      "Epoch [2/2], Step [600/600], Loss : 0.2013\n"
     ]
    }
   ],
   "source": [
    "total_step = len(train_loader)\n",
    "for epoch in range(num_epochs):\n",
    "    for i, (images, labels) in enumerate(train_loader):\n",
    "        images = images.reshape(-1, sequence_length, input_size).to(device)\n",
    "        labels = labels.to(device)\n",
    "        \n",
    "        #Forward pass\n",
    "        outputs = model(images)\n",
    "        loss = criterion(outputs, labels)\n",
    "        \n",
    "        #Backward and optimize\n",
    "        \n",
    "        optimizer.zero_grad()\n",
    "        loss.backward()\n",
    "        optimizer.step()\n",
    "        \n",
    "        if(i + 1) % 100 == 0:\n",
    "            print ('Epoch [{}/{}], Step [{}/{}], Loss : {:.4f}'\n",
    "                  .format(epoch+1, num_epochs, i+1, total_step, loss.item()))"
   ]
  },
  {
   "cell_type": "code",
   "execution_count": 21,
   "metadata": {},
   "outputs": [
    {
     "name": "stdout",
     "output_type": "stream",
     "text": [
      "Test Accuracy : 98.0 %\n",
      "Test Accuracy : 98.5 %\n",
      "Test Accuracy : 97.66666666666667 %\n",
      "Test Accuracy : 98.0 %\n",
      "Test Accuracy : 97.8 %\n",
      "Test Accuracy : 97.66666666666667 %\n",
      "Test Accuracy : 97.71428571428571 %\n",
      "Test Accuracy : 97.625 %\n",
      "Test Accuracy : 97.66666666666667 %\n",
      "Test Accuracy : 97.0 %\n",
      "Test Accuracy : 97.0 %\n",
      "Test Accuracy : 97.0 %\n",
      "Test Accuracy : 96.6923076923077 %\n",
      "Test Accuracy : 96.71428571428571 %\n",
      "Test Accuracy : 96.73333333333333 %\n",
      "Test Accuracy : 96.75 %\n",
      "Test Accuracy : 96.76470588235294 %\n",
      "Test Accuracy : 96.66666666666667 %\n",
      "Test Accuracy : 96.6842105263158 %\n",
      "Test Accuracy : 96.65 %\n",
      "Test Accuracy : 96.66666666666667 %\n",
      "Test Accuracy : 96.5 %\n",
      "Test Accuracy : 96.6086956521739 %\n",
      "Test Accuracy : 96.58333333333333 %\n",
      "Test Accuracy : 96.44 %\n",
      "Test Accuracy : 96.46153846153847 %\n",
      "Test Accuracy : 96.48148148148148 %\n",
      "Test Accuracy : 96.42857142857143 %\n",
      "Test Accuracy : 96.41379310344827 %\n",
      "Test Accuracy : 96.46666666666667 %\n",
      "Test Accuracy : 96.41935483870968 %\n",
      "Test Accuracy : 96.46875 %\n",
      "Test Accuracy : 96.48484848484848 %\n",
      "Test Accuracy : 96.55882352941177 %\n",
      "Test Accuracy : 96.54285714285714 %\n",
      "Test Accuracy : 96.52777777777777 %\n",
      "Test Accuracy : 96.56756756756756 %\n",
      "Test Accuracy : 96.5 %\n",
      "Test Accuracy : 96.51282051282051 %\n",
      "Test Accuracy : 96.575 %\n",
      "Test Accuracy : 96.53658536585365 %\n",
      "Test Accuracy : 96.52380952380952 %\n",
      "Test Accuracy : 96.46511627906976 %\n",
      "Test Accuracy : 96.43181818181819 %\n",
      "Test Accuracy : 96.42222222222222 %\n",
      "Test Accuracy : 96.41304347826087 %\n",
      "Test Accuracy : 96.46808510638297 %\n",
      "Test Accuracy : 96.47916666666667 %\n",
      "Test Accuracy : 96.40816326530613 %\n",
      "Test Accuracy : 96.44 %\n",
      "Test Accuracy : 96.50980392156863 %\n",
      "Test Accuracy : 96.5576923076923 %\n",
      "Test Accuracy : 96.62264150943396 %\n",
      "Test Accuracy : 96.66666666666667 %\n",
      "Test Accuracy : 96.7090909090909 %\n",
      "Test Accuracy : 96.76785714285714 %\n",
      "Test Accuracy : 96.78947368421052 %\n",
      "Test Accuracy : 96.8103448275862 %\n",
      "Test Accuracy : 96.84745762711864 %\n",
      "Test Accuracy : 96.86666666666666 %\n",
      "Test Accuracy : 96.85245901639344 %\n",
      "Test Accuracy : 96.80645161290323 %\n",
      "Test Accuracy : 96.85714285714286 %\n",
      "Test Accuracy : 96.890625 %\n",
      "Test Accuracy : 96.9076923076923 %\n",
      "Test Accuracy : 96.84848484848484 %\n",
      "Test Accuracy : 96.8955223880597 %\n",
      "Test Accuracy : 96.91176470588235 %\n",
      "Test Accuracy : 96.94202898550725 %\n",
      "Test Accuracy : 96.98571428571428 %\n",
      "Test Accuracy : 97.02816901408451 %\n",
      "Test Accuracy : 97.05555555555556 %\n",
      "Test Accuracy : 97.05479452054794 %\n",
      "Test Accuracy : 97.0945945945946 %\n",
      "Test Accuracy : 97.12 %\n",
      "Test Accuracy : 97.15789473684211 %\n",
      "Test Accuracy : 97.1948051948052 %\n",
      "Test Accuracy : 97.23076923076923 %\n",
      "Test Accuracy : 97.24050632911393 %\n",
      "Test Accuracy : 97.1875 %\n",
      "Test Accuracy : 97.18518518518519 %\n",
      "Test Accuracy : 97.21951219512195 %\n",
      "Test Accuracy : 97.21686746987952 %\n",
      "Test Accuracy : 97.21428571428571 %\n",
      "Test Accuracy : 97.23529411764706 %\n",
      "Test Accuracy : 97.23255813953489 %\n",
      "Test Accuracy : 97.26436781609195 %\n",
      "Test Accuracy : 97.29545454545455 %\n",
      "Test Accuracy : 97.32584269662921 %\n",
      "Test Accuracy : 97.35555555555555 %\n",
      "Test Accuracy : 97.34065934065934 %\n",
      "Test Accuracy : 97.3695652173913 %\n",
      "Test Accuracy : 97.38709677419355 %\n",
      "Test Accuracy : 97.40425531914893 %\n",
      "Test Accuracy : 97.43157894736842 %\n",
      "Test Accuracy : 97.42708333333333 %\n",
      "Test Accuracy : 97.38144329896907 %\n",
      "Test Accuracy : 97.38775510204081 %\n",
      "Test Accuracy : 97.4040404040404 %\n",
      "Test Accuracy : 97.43 %\n"
     ]
    }
   ],
   "source": [
    "model.eval()\n",
    "with torch.no_grad():\n",
    "    correct = 0\n",
    "    total = 0\n",
    "    for images, labels in test_loader:\n",
    "        images = images.reshape(-1, sequence_length, input_size).to(device)\n",
    "        labels = labels.to(device)\n",
    "        outputs = model(images)\n",
    "        _, predicted = torch.max(outputs.data, 1)\n",
    "        total += labels.size(0)\n",
    "        correct += (predicted == labels).sum().item()\n",
    "        \n",
    "        print('Test Accuracy : {} %'.format(100*correct/total))\n",
    "        \n",
    "#SAve model checkpoint\n",
    "torch.save(model.state_dict(), 'model.ckpt')"
   ]
  },
  {
   "cell_type": "code",
   "execution_count": null,
   "metadata": {},
   "outputs": [],
   "source": []
  }
 ],
 "metadata": {
  "kernelspec": {
   "display_name": "pytorch",
   "language": "python",
   "name": "pytorch"
  },
  "language_info": {
   "codemirror_mode": {
    "name": "ipython",
    "version": 3
   },
   "file_extension": ".py",
   "mimetype": "text/x-python",
   "name": "python",
   "nbconvert_exporter": "python",
   "pygments_lexer": "ipython3",
   "version": "3.7.5"
  }
 },
 "nbformat": 4,
 "nbformat_minor": 2
}
